{
 "cells": [
  {
   "cell_type": "markdown",
   "id": "7e250b4c-5229-446a-baf3-829268d84991",
   "metadata": {},
   "source": [
    "### パッケージのインポート"
   ]
  },
  {
   "cell_type": "code",
   "execution_count": null,
   "id": "53ea1c2b-7632-498b-8c12-726f3ee668e8",
   "metadata": {},
   "outputs": [],
   "source": [
    "import openpyxl\n",
    "import pandas as pd\n",
    "from openpyxl import load_workbook\n",
    "from openpyxl.styles import Border, Side"
   ]
  },
  {
   "cell_type": "markdown",
   "id": "eb612a75-591e-411f-824f-d7bd87c9ffdd",
   "metadata": {},
   "source": [
    "### データフレーム作成"
   ]
  },
  {
   "cell_type": "code",
   "execution_count": null,
   "id": "7d786b2e-4d94-458c-970a-9142effb2c59",
   "metadata": {},
   "outputs": [],
   "source": [
    "df_project = pd.read_excel(\"../プロジェクト実績集計（社員・日々）.xlsx\", usecols=range(7))\n",
    "df_sum1 = pd.read_excel(\"../月次合計一覧 (1).xlsx\", usecols=range(7))\n",
    "df_sum2 = pd.read_excel(\"../月次合計一覧.xlsx\", usecols=range(21))"
   ]
  },
  {
   "cell_type": "markdown",
   "id": "07afa670-b959-40b9-9eac-4fdbc50e545f",
   "metadata": {},
   "source": [
    "#### チェック用ダミーデータ作成と追加"
   ]
  },
  {
   "cell_type": "code",
   "execution_count": null,
   "id": "1ce72e8a-df4f-48bc-8ed8-de3eee1ba35c",
   "metadata": {
    "jupyter": {
     "source_hidden": true
    }
   },
   "outputs": [],
   "source": [
    "# ダミーデータの追加\n",
    "dummy_data = {\n",
    "    \"就労所属コード\": [\"L00X\"],\n",
    "    \"就労所属名称\": [\"テスト課\"],\n",
    "    \"社員番号\": [\"T0001\"],\n",
    "    \"社員名称\": [\"テスト　太郎\"],\n",
    "    \"総労働時間\": [\"190:00\"],\n",
    "    \"月の法定限度時間\": [\"177:00\"],\n",
    "    \"安衛法超過時間\": [\"13:00\"],\n",
    "}\n",
    "\n",
    "df_dummy = pd.DataFrame(dummy_data)\n",
    "\n",
    "df_sum1 = df_sum1.append(df_dummy, ignore_index=True)\n",
    "\n",
    "# ダミーデータの追加\n",
    "dummy_data2 = {\n",
    "    \"就労所属コード\": [\"L00X\"],\n",
    "    \"就労所属名称\": [\"テスト課\"],\n",
    "    \"社員番号\": [\"T0002\"],\n",
    "    \"社員名称\": [\"テスト　花子\"],\n",
    "    \"総労働時間\": [\"240:00\"],\n",
    "    \"月の法定限度時間\": [\"177:00\"],\n",
    "    \"安衛法超過時間\": [\"63:00\"],\n",
    "}\n",
    "\n",
    "df_dummy = pd.DataFrame(dummy_data2)\n",
    "\n",
    "df_sum1 = df_sum1.append(df_dummy, ignore_index=True)\n",
    "\n",
    "dummy_data3 = {\n",
    "    \"就労所属コード\": [\"L00X\"],\n",
    "    \"就労所属名称\": [\"テスト課\"],\n",
    "    \"社員番号\": [\"T0002\"],\n",
    "    \"社員名称\": [\"テスト　花子\"],\n",
    "    \"所定労働時間\": [\"240:00\"],\n",
    "    \"フレックス\\n総労働時間\": [\"対象外\"],\n",
    "    \"残業時間\": [\"63:00\"],\n",
    "    \"フレックス\\n超過時間\": [\"対象外\"],\n",
    "    \"所定休日出勤時間\": [\"0:00\"],\n",
    "    \"法定休日出勤時間\": [\"0:00\"],\n",
    "    \"深夜時間\": [\"0:00\"],\n",
    "    \"減時間\": [\"0:00\"],\n",
    "    \"フレックス\\n不足時間\": [\"0:00\"],\n",
    "    \"遅刻回数\": [\"0\"],\n",
    "    \"早退回数\": [\"0\"],\n",
    "    \"私用外出回数\": [\"0\"],\n",
    "    \"宿直回数\": [\"0\"],\n",
    "    \"出向回数\": [\"0\"],\n",
    "    \"夜勤回数\": [\"0\"],\n",
    "    \"テレワーク回数\": [\"0\"],\n",
    "    \"不就業時間\": [\"0:00\"],\n",
    "}\n",
    "\n",
    "df_dummy3 = pd.DataFrame(dummy_data3)\n",
    "df_sum2 = df_sum2.append(df_dummy3, ignore_index=True)\n",
    "\n",
    "dummy_data4 = {\n",
    "    \"就労所属コード\": [\"L00X\"],\n",
    "    \"就労所属名称\": [\"テスト課\"],\n",
    "    \"社員番号\": [\"T0002\"],\n",
    "    \"社員名称\": [\"テスト　太郎\"],\n",
    "    \"所定労働時間\": [\"対象外\"],\n",
    "    \"フレックス\\n総労働時間\": [\"190:00\"],\n",
    "    \"残業時間\": [\"対象外\"],\n",
    "    \"フレックス\\n超過時間\": [\"13:00\"],\n",
    "    \"所定休日出勤時間\": [\"0:00\"],\n",
    "    \"法定休日出勤時間\": [\"0:00\"],\n",
    "    \"深夜時間\": [\"0:00\"],\n",
    "    \"減時間\": [\"0:00\"],\n",
    "    \"フレックス\\n不足時間\": [\"0:00\"],\n",
    "    \"遅刻回数\": [\"0\"],\n",
    "    \"早退回数\": [\"0\"],\n",
    "    \"私用外出回数\": [\"0\"],\n",
    "    \"宿直回数\": [\"0\"],\n",
    "    \"出向回数\": [\"0\"],\n",
    "    \"夜勤回数\": [\"0\"],\n",
    "    \"テレワーク回数\": [\"0\"],\n",
    "    \"不就業時間\": [\"0:00\"],\n",
    "}\n",
    "\n",
    "df_dummy4 = pd.DataFrame(dummy_data4)\n",
    "df_sum2 = df_sum2.append(df_dummy4, ignore_index=True)"
   ]
  },
  {
   "cell_type": "markdown",
   "id": "7ccd63bb-94a8-46ef-aa35-75ebbe090233",
   "metadata": {},
   "source": [
    "#### 時間を変換するための関数"
   ]
  },
  {
   "cell_type": "code",
   "execution_count": null,
   "id": "c1827ab9-eff4-4dc3-9964-daf110bdc631",
   "metadata": {},
   "outputs": [],
   "source": [
    "# 時間に変換するための関数\n",
    "def time_to_minutes(time):\n",
    "    h, m = map(int, time.split(\":\"))\n",
    "    return h * 60 + m\n",
    "\n",
    "\n",
    "# 分を時間に変換するための関数\n",
    "def minutes_to_time(minutes):\n",
    "    h = minutes // 60\n",
    "    m = minutes % 60\n",
    "    return f\"{h}:{m:02d}\""
   ]
  },
  {
   "cell_type": "markdown",
   "id": "4f659fc6-eee7-487c-a3df-d4f9b40458a7",
   "metadata": {},
   "source": [
    "### 超過時間チェック関数"
   ]
  },
  {
   "cell_type": "markdown",
   "id": "732a2cb3-30ce-40f7-880b-0518da71cca5",
   "metadata": {},
   "source": [
    "引数は読み込んだデータフレーム "
   ]
  },
  {
   "cell_type": "code",
   "execution_count": null,
   "id": "a8ad951d-3ce7-489c-828c-313e4aad9772",
   "metadata": {},
   "outputs": [],
   "source": [
    "# 月次合計一覧から労働時間の超過を算出\n",
    "def overworkcheck(df):\n",
    "    # 超過している行を抽出\n",
    "    overtime_df = df[df[\"安衛法超過時間\"].apply(time_to_minutes) > 0]\n",
    "\n",
    "    # 必要な列を表示\n",
    "    return overtime_df[\n",
    "        [\"就労所属コード\", \"就労所属名称\", \"社員番号\", \"社員名称\", \"総労働時間\", \"月の法定限度時間\", \"安衛法超過時間\"]\n",
    "    ]"
   ]
  },
  {
   "cell_type": "code",
   "execution_count": null,
   "id": "85aa7cc2-111f-4f7b-bb9b-94d1860c3f8d",
   "metadata": {},
   "outputs": [],
   "source": [
    "# 関数の実行\n",
    "overtime_df = overworkcheck(df_sum1)"
   ]
  },
  {
   "cell_type": "code",
   "execution_count": null,
   "id": "0627cb0c-507b-438e-bddf-f6347e8791a6",
   "metadata": {},
   "outputs": [],
   "source": [
    "overtime_df"
   ]
  },
  {
   "cell_type": "markdown",
   "id": "03f217d0-eedc-4aee-bb8a-fdd857bd3afa",
   "metadata": {},
   "source": [
    "### 時間超過している個人の情報をExcelに書き込む"
   ]
  },
  {
   "cell_type": "markdown",
   "id": "d90422d6-17a9-463c-b0fe-3359bbaf7139",
   "metadata": {},
   "source": [
    "#### 使用する変数、パスまとめ"
   ]
  },
  {
   "cell_type": "code",
   "execution_count": null,
   "id": "06838e8b-90ab-42fc-857f-10c743495ed9",
   "metadata": {},
   "outputs": [],
   "source": [
    "department_name = \"開発管理部\"  # 対象の部署名\n",
    "input_filename = \"../ref/残業申請サンプル.xlsx\"  # 読み込むファイル名\n",
    "output_filename = \"../result/result.xlsx\"  # 書き込むファイル名\n",
    "\n",
    "# 部署名と対象の月\n",
    "month = 6"
   ]
  },
  {
   "cell_type": "code",
   "execution_count": null,
   "id": "19df823c-32a8-48e8-bbb1-7b3b4b206808",
   "metadata": {},
   "outputs": [],
   "source": [
    "# df_sum1とdf_sum2で、”社員名称”が共通している行のデータを取り出す関数\n",
    "def get_overtime_hours(df_sum1, df_sum2):\n",
    "    # 社員名称をキーにしてdf_sum2から残業時間またはフレックス超過時間を取得\n",
    "    def find_overtime(row):\n",
    "        employee_name = row[\"社員名称\"]\n",
    "        matched_row = df_sum2[df_sum2[\"社員名称\"] == employee_name]\n",
    "        if matched_row.empty:\n",
    "            return \"\"\n",
    "        overtime = matched_row.iloc[0][\"残業時間\"]\n",
    "        flex_overtime = matched_row.iloc[0][\"フレックス\\n超過時間\"]\n",
    "        if overtime != \"対象外\":\n",
    "            hours, _ = map(int, overtime.split(\":\"))\n",
    "            return f\"{hours}h\"\n",
    "        elif flex_overtime != \"対象外\":\n",
    "            hours, _ = map(int, flex_overtime.split(\":\"))\n",
    "            return f\"{hours}h\"\n",
    "        return \"\"\n",
    "\n",
    "    df_sum1[\"今月の残業時間\"] = df_sum1.apply(find_overtime, axis=1)\n",
    "\n",
    "    return df_sum1\n",
    "\n",
    "\n",
    "def write_overtime_to_excel(\n",
    "    df, department_name, input_file_name, output_filename, start_cell=\"C6\"\n",
    "):\n",
    "    # Excelファイル読み込み\n",
    "    wb = load_workbook(input_filename)\n",
    "    ws = wb.active\n",
    "\n",
    "    # 引数のセル番号を行番号と列番号に変換\n",
    "    start_row, start_col = openpyxl.utils.cell.coordinate_to_tuple(start_cell)\n",
    "\n",
    "    count = 0  # カウントの初期化\n",
    "\n",
    "    # データを書き込む\n",
    "    for row_idx, (_, row) in enumerate(df.iterrows(), start=start_row):\n",
    "        ws.cell(row=row_idx, column=start_col, value=row[\"社員名称\"])\n",
    "        ws.cell(row=row_idx, column=start_col + 1, value=department_name)\n",
    "        ws.cell(row=row_idx, column=start_col + 2, value=row[\"就労所属名称\"])\n",
    "        ws.cell(row=row_idx, column=start_col + 3, value=row[\"今月の残業時間\"])\n",
    "\n",
    "        # Merge cells for \"主な業務内容\" in the data rows\n",
    "        ws.merge_cells(\n",
    "            start_row=row_idx,\n",
    "            start_column=start_col + 6,\n",
    "            end_row=row_idx,\n",
    "            end_column=start_col + 7,\n",
    "        )\n",
    "        if count > 0:\n",
    "            count += 1  # 2つ目以降の場合、カウントをインクリメント\n",
    "\n",
    "        if count == 0:\n",
    "            count += 1  # 初回処理後にカウントを1に設定\n",
    "\n",
    "    # 罫線で表を作る\n",
    "    rows = len(df)  # 行の数\n",
    "    cols = 7  # 列の数\n",
    "    thin_border = Border(\n",
    "        left=Side(style=\"thin\"),\n",
    "        right=Side(style=\"thin\"),\n",
    "        top=Side(style=\"thin\"),\n",
    "        bottom=Side(style=\"thin\"),\n",
    "    )\n",
    "\n",
    "    for row in ws.iter_rows(\n",
    "        min_row=start_row,\n",
    "        max_row=start_row + rows - 1,\n",
    "        min_col=start_col,\n",
    "        max_col=start_col + cols - 1,\n",
    "    ):\n",
    "        for cell in row:\n",
    "            cell.border = thin_border\n",
    "\n",
    "    # ファイルを保存\n",
    "    wb.save(output_filename)"
   ]
  },
  {
   "cell_type": "code",
   "execution_count": null,
   "id": "08b49a00-52e5-4f75-a1aa-90ac4319a909",
   "metadata": {},
   "outputs": [],
   "source": [
    "# 個人の残業時間を抽出し、Excelに個人の情報を書き込み\n",
    "overtime_df = get_overtime_hours(overtime_df, df_sum2)\n",
    "write_overtime_to_excel(overtime_df, department_name, input_filename, output_filename)"
   ]
  },
  {
   "cell_type": "markdown",
   "id": "7a72353d-8b67-44be-820e-2e86b8cd2004",
   "metadata": {},
   "source": [
    "### 月次合計一覧から、フレックスを含む残業時間を合算する関数\n",
    "\n",
    "月次合計一覧のデータフレーム df_sum2 を使用"
   ]
  },
  {
   "cell_type": "code",
   "execution_count": null,
   "id": "ba320b0a-792c-476f-bbd4-d4b9ff5cd256",
   "metadata": {},
   "outputs": [],
   "source": [
    "# 残業時間とフレックス超過時間の列を変換し、合計を合算\n",
    "def convert_to_minutes(time):\n",
    "    if \"対象外\" in time or not time:\n",
    "        return 0\n",
    "\n",
    "    # \"HH:MM:SS\" 形式も \"HH:MM\"形式も考慮\n",
    "    parts = time.split(\":\")\n",
    "    if len(parts) == 3:\n",
    "        h, m, s = map(int, parts)\n",
    "    elif len(parts) == 2:\n",
    "        h, m = map(int, parts)\n",
    "        s = 0\n",
    "    else:\n",
    "        return 0\n",
    "\n",
    "    return h * 60 + m\n",
    "\n",
    "\n",
    "# 合計残業時間を計算\n",
    "def calculate_total_time(df, columns):\n",
    "    total_minutes = sum(df[col].apply(convert_to_minutes).sum() for col in columns)\n",
    "\n",
    "    return minutes_to_time(total_minutes)"
   ]
  },
  {
   "cell_type": "code",
   "execution_count": null,
   "id": "d9cf7b1f-f820-4feb-8172-84349f567cec",
   "metadata": {},
   "outputs": [],
   "source": [
    "# 合算する対象の列\n",
    "columns_to_sum = [\"残業時間\", \"フレックス\\n超過時間\"]\n",
    "\n",
    "# 時間を算出する\n",
    "total_time = calculate_total_time(df_sum2, columns_to_sum)\n",
    "\n",
    "# 結果の出力\n",
    "print(total_time)"
   ]
  },
  {
   "cell_type": "markdown",
   "id": "45b1e76f-fed0-4839-9ebb-6bbaaee41d65",
   "metadata": {},
   "source": [
    "### 算出したデータをExcelに出力"
   ]
  },
  {
   "cell_type": "markdown",
   "id": "3b11a307-9b77-4d14-9946-c5148f2b82af",
   "metadata": {},
   "source": [
    "### 部署内の総残業時間書き込み自動化\n",
    "\n",
    "引数は出力ファイル、部署名、月、総残業時間\n",
    "\n",
    "書き込み保存するところまで関数内で完結させる"
   ]
  },
  {
   "cell_type": "code",
   "execution_count": null,
   "id": "0b5b46ef-d7de-42b3-b0d9-2810431299fb",
   "metadata": {},
   "outputs": [],
   "source": [
    "def update_overtime_request(filepath, department, month, data):\n",
    "    # 部署名と対応する行番号の辞書\n",
    "    start_col = 19\n",
    "    department_row_mapping = {\n",
    "        \"本部長付\": start_col,\n",
    "        \"開発管理部\": start_col + 3,\n",
    "        \"開発推進部\": start_col + 6,\n",
    "        \"1開発設計部\": start_col + 9,\n",
    "        \"ディバイス開発部\": start_col + 12,\n",
    "        \"電気・電子開発部\": start_col + 15,\n",
    "        \"開発本部\": start_col + 18,\n",
    "    }\n",
    "    # 月と対応する列番号の辞書\n",
    "    month_column_mapping = {\n",
    "        1: \"E\",\n",
    "        2: \"F\",\n",
    "        3: \"G\",\n",
    "        4: \"H\",\n",
    "        5: \"I\",\n",
    "        6: \"J\",\n",
    "        7: \"K\",\n",
    "        8: \"L\",\n",
    "        9: \"M\",\n",
    "        10: \"N\",\n",
    "        11: \"O\",\n",
    "        12: \"P\",\n",
    "    }\n",
    "\n",
    "    # 対象の行番号と列番号を取得\n",
    "    row = department_row_mapping.get(department)\n",
    "    column = month_column_mapping.get(month)\n",
    "\n",
    "    if row is None:\n",
    "        raise ValueError(f\"指定された部署名'{department}'が無効です。\")\n",
    "    if column is None:\n",
    "        raise ValueError(f\"指定された月'{month}'が無効です。\")\n",
    "\n",
    "    # Excelファイル読み込み\n",
    "    wb = load_workbook(filepath)\n",
    "    ws = wb.active\n",
    "\n",
    "    # セルにデータを入力\n",
    "    cell = f\"{column}{row}\"\n",
    "    ws[cell] = data\n",
    "\n",
    "    # ファイルを保存\n",
    "    wb.save(output_filename)\n",
    "\n",
    "    print(\"処理完了\")"
   ]
  },
  {
   "cell_type": "code",
   "execution_count": null,
   "id": "70efd1b8-db11-486f-aa0f-c708f7350846",
   "metadata": {},
   "outputs": [],
   "source": [
    "# 総残業時間total_timeをファイルに書き込む\n",
    "# 読み込むファイルは上のwrite_overtime_to_excelで出力したoutput_filenameに上書きする\n",
    "update_overtime_request(output_filename, department_name, month, total_time)"
   ]
  }
 ],
 "metadata": {
  "kernelspec": {
   "display_name": "Python 3 (ipykernel)",
   "language": "python",
   "name": "python3"
  },
  "language_info": {
   "codemirror_mode": {
    "name": "ipython",
    "version": 3
   },
   "file_extension": ".py",
   "mimetype": "text/x-python",
   "name": "python",
   "nbconvert_exporter": "python",
   "pygments_lexer": "ipython3",
   "version": "3.10.13"
  }
 },
 "nbformat": 4,
 "nbformat_minor": 5
}
