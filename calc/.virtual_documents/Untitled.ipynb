def WorkHoursCalculator():
    df_wk,df_hours=read_df()   #業務と労務時間の整理、労働日の算出（30%以上が出勤）
    
    df_member,df_sec=calc_hardwk(df_word) #現状の業務負荷、個人と課の算出、36協定基準で
    df_member,df_sec=estimate_hardwk(df_member,df_sec) #月内推定　と　月完推定値を使い
    
    df_member=calc_whatjob(df_member,df_wk)　# メンバーの主業務のベスト３を算出
    df_section=calc_total_workhours(df_hours) # 部門トータルの集計と月末推定

    write_result(df_member,df_section)
    
    # overtime_df = calculate_overtime(df_sum1)
    # overtime_df = get_overtime_hours(overtime_df, df_sum2)
    # write_overtime_to_excel(overtime_df, department_name, input_filename, output_filename)
    # total_time = calculate_total_time(df_sum2, columns_to_sum)
    # write_total_overtime(output_filename, department_name, month, total_time)

私の立てた時間と内容を確認して、これができるようになる必要があります。
